{
 "cells": [
  {
   "cell_type": "markdown",
   "metadata": {
    "id": "wNOrgpdDQeUA"
   },
   "source": [
    "# Modeling Using .csv Data:"
   ]
  },
  {
   "cell_type": "markdown",
   "metadata": {
    "id": "ysGQANxVQix-"
   },
   "source": [
    "Since the models I made using the image/.jpg data were not performing well and were taking an hour-per-epoch to run, I will try to recreate these models and build new ones using the exact same data, only this time in .csv format. The purpose of this is that the models may potentially learn better using the data in .csv format, as well as run much faster than the image data.\n",
    "____________________________"
   ]
  },
  {
   "cell_type": "markdown",
   "metadata": {
    "id": "2ZA89zTMR19G"
   },
   "source": [
    "### Imports"
   ]
  },
  {
   "cell_type": "code",
   "execution_count": null,
   "metadata": {
    "id": "EcgpF8ogSMlc"
   },
   "outputs": [],
   "source": [
    "import tensorflow as tf\n",
    "from tensorflow.keras.preprocessing.image import ImageDataGenerator\n",
    "from tensorflow.keras.applications import VGG16\n",
    "from tensorflow.keras.layers import Dense, GlobalAveragePooling2D\n",
    "from tensorflow.keras.models import Model\n",
    "import cv2\n",
    "import matplotlib.pyplot as plt\n",
    "import pandas as pd\n",
    "import numpy as np\n",
    "from sklearn.metrics import accuracy_score\n",
    "from tensorflow.keras.models import Sequential\n",
    "from tensorflow.keras.layers import Conv2D, MaxPooling2D, Flatten, Dense, Dropout\n",
    "from tensorflow.keras.utils import to_categorical\n",
    "from tensorflow.keras.callbacks import EarlyStopping\n",
    "from tensorflow.keras.regularizers import l2\n",
    "from sklearn.model_selection import train_test_split\n",
    "from tensorflow.keras import layers"
   ]
  },
  {
   "cell_type": "markdown",
   "metadata": {
    "id": "j6HZZtTaSI26"
   },
   "source": [
    "______________________________\n",
    "## Data Cleaning/EDA"
   ]
  },
  {
   "cell_type": "code",
   "execution_count": null,
   "metadata": {
    "colab": {
     "base_uri": "https://localhost:8080/"
    },
    "id": "eGoMrn5iS3S7",
    "outputId": "ea0b7e6c-3e0d-4f7b-caf6-2de6869533c1"
   },
   "outputs": [
    {
     "name": "stdout",
     "output_type": "stream",
     "text": [
      "Drive already mounted at /content/drive; to attempt to forcibly remount, call drive.mount(\"/content/drive\", force_remount=True).\n"
     ]
    }
   ],
   "source": [
    "# Mounting my drive\n",
    "\n",
    "from google.colab import drive\n",
    "\n",
    "drive.mount('/content/drive')"
   ]
  },
  {
   "cell_type": "code",
   "execution_count": null,
   "metadata": {
    "id": "FtSheHXoSMUF"
   },
   "outputs": [],
   "source": [
    "# Reading in the data\n",
    "\n",
    "train_data = pd.read_csv(\"/content/drive/MyDrive/GA Data Science Bootcamp/Projects/Capstone Project/NEW_facial_expression_recognition_data/train_data.csv\")\n",
    "test_data = pd.read_csv(\"/content/drive/MyDrive/GA Data Science Bootcamp/Projects/Capstone Project/NEW_facial_expression_recognition_data/test_data.csv\")"
   ]
  },
  {
   "cell_type": "code",
   "execution_count": null,
   "metadata": {
    "colab": {
     "base_uri": "https://localhost:8080/",
     "height": 206
    },
    "id": "jblS00EGSsFv",
    "outputId": "df151297-4a8b-4b90-c359-1f58df76cb09"
   },
   "outputs": [
    {
     "data": {
      "text/html": [
       "\n",
       "  <div id=\"df-054fe4df-55ca-443e-b27e-2ab6ddf1bf05\" class=\"colab-df-container\">\n",
       "    <div>\n",
       "<style scoped>\n",
       "    .dataframe tbody tr th:only-of-type {\n",
       "        vertical-align: middle;\n",
       "    }\n",
       "\n",
       "    .dataframe tbody tr th {\n",
       "        vertical-align: top;\n",
       "    }\n",
       "\n",
       "    .dataframe thead th {\n",
       "        text-align: right;\n",
       "    }\n",
       "</style>\n",
       "<table border=\"1\" class=\"dataframe\">\n",
       "  <thead>\n",
       "    <tr style=\"text-align: right;\">\n",
       "      <th></th>\n",
       "      <th>emotion</th>\n",
       "      <th>pixels</th>\n",
       "    </tr>\n",
       "  </thead>\n",
       "  <tbody>\n",
       "    <tr>\n",
       "      <th>0</th>\n",
       "      <td>0</td>\n",
       "      <td>70 80 82 72 58 58 60 63 54 58 60 48 89 115 121...</td>\n",
       "    </tr>\n",
       "    <tr>\n",
       "      <th>1</th>\n",
       "      <td>0</td>\n",
       "      <td>151 150 147 155 148 133 111 140 170 174 182 15...</td>\n",
       "    </tr>\n",
       "    <tr>\n",
       "      <th>2</th>\n",
       "      <td>2</td>\n",
       "      <td>231 212 156 164 174 138 161 173 182 200 106 38...</td>\n",
       "    </tr>\n",
       "    <tr>\n",
       "      <th>3</th>\n",
       "      <td>4</td>\n",
       "      <td>24 32 36 30 32 23 19 20 30 41 21 22 32 34 21 1...</td>\n",
       "    </tr>\n",
       "    <tr>\n",
       "      <th>4</th>\n",
       "      <td>6</td>\n",
       "      <td>4 0 0 0 0 0 0 0 0 0 0 0 3 15 23 28 48 50 58 84...</td>\n",
       "    </tr>\n",
       "  </tbody>\n",
       "</table>\n",
       "</div>\n",
       "    <div class=\"colab-df-buttons\">\n",
       "\n",
       "  <div class=\"colab-df-container\">\n",
       "    <button class=\"colab-df-convert\" onclick=\"convertToInteractive('df-054fe4df-55ca-443e-b27e-2ab6ddf1bf05')\"\n",
       "            title=\"Convert this dataframe to an interactive table.\"\n",
       "            style=\"display:none;\">\n",
       "\n",
       "  <svg xmlns=\"http://www.w3.org/2000/svg\" height=\"24px\" viewBox=\"0 -960 960 960\">\n",
       "    <path d=\"M120-120v-720h720v720H120Zm60-500h600v-160H180v160Zm220 220h160v-160H400v160Zm0 220h160v-160H400v160ZM180-400h160v-160H180v160Zm440 0h160v-160H620v160ZM180-180h160v-160H180v160Zm440 0h160v-160H620v160Z\"/>\n",
       "  </svg>\n",
       "    </button>\n",
       "\n",
       "  <style>\n",
       "    .colab-df-container {\n",
       "      display:flex;\n",
       "      gap: 12px;\n",
       "    }\n",
       "\n",
       "    .colab-df-convert {\n",
       "      background-color: #E8F0FE;\n",
       "      border: none;\n",
       "      border-radius: 50%;\n",
       "      cursor: pointer;\n",
       "      display: none;\n",
       "      fill: #1967D2;\n",
       "      height: 32px;\n",
       "      padding: 0 0 0 0;\n",
       "      width: 32px;\n",
       "    }\n",
       "\n",
       "    .colab-df-convert:hover {\n",
       "      background-color: #E2EBFA;\n",
       "      box-shadow: 0px 1px 2px rgba(60, 64, 67, 0.3), 0px 1px 3px 1px rgba(60, 64, 67, 0.15);\n",
       "      fill: #174EA6;\n",
       "    }\n",
       "\n",
       "    .colab-df-buttons div {\n",
       "      margin-bottom: 4px;\n",
       "    }\n",
       "\n",
       "    [theme=dark] .colab-df-convert {\n",
       "      background-color: #3B4455;\n",
       "      fill: #D2E3FC;\n",
       "    }\n",
       "\n",
       "    [theme=dark] .colab-df-convert:hover {\n",
       "      background-color: #434B5C;\n",
       "      box-shadow: 0px 1px 3px 1px rgba(0, 0, 0, 0.15);\n",
       "      filter: drop-shadow(0px 1px 2px rgba(0, 0, 0, 0.3));\n",
       "      fill: #FFFFFF;\n",
       "    }\n",
       "  </style>\n",
       "\n",
       "    <script>\n",
       "      const buttonEl =\n",
       "        document.querySelector('#df-054fe4df-55ca-443e-b27e-2ab6ddf1bf05 button.colab-df-convert');\n",
       "      buttonEl.style.display =\n",
       "        google.colab.kernel.accessAllowed ? 'block' : 'none';\n",
       "\n",
       "      async function convertToInteractive(key) {\n",
       "        const element = document.querySelector('#df-054fe4df-55ca-443e-b27e-2ab6ddf1bf05');\n",
       "        const dataTable =\n",
       "          await google.colab.kernel.invokeFunction('convertToInteractive',\n",
       "                                                    [key], {});\n",
       "        if (!dataTable) return;\n",
       "\n",
       "        const docLinkHtml = 'Like what you see? Visit the ' +\n",
       "          '<a target=\"_blank\" href=https://colab.research.google.com/notebooks/data_table.ipynb>data table notebook</a>'\n",
       "          + ' to learn more about interactive tables.';\n",
       "        element.innerHTML = '';\n",
       "        dataTable['output_type'] = 'display_data';\n",
       "        await google.colab.output.renderOutput(dataTable, element);\n",
       "        const docLink = document.createElement('div');\n",
       "        docLink.innerHTML = docLinkHtml;\n",
       "        element.appendChild(docLink);\n",
       "      }\n",
       "    </script>\n",
       "  </div>\n",
       "\n",
       "\n",
       "<div id=\"df-97752852-d686-43db-a36b-010895ed6bef\">\n",
       "  <button class=\"colab-df-quickchart\" onclick=\"quickchart('df-97752852-d686-43db-a36b-010895ed6bef')\"\n",
       "            title=\"Suggest charts.\"\n",
       "            style=\"display:none;\">\n",
       "\n",
       "<svg xmlns=\"http://www.w3.org/2000/svg\" height=\"24px\"viewBox=\"0 0 24 24\"\n",
       "     width=\"24px\">\n",
       "    <g>\n",
       "        <path d=\"M19 3H5c-1.1 0-2 .9-2 2v14c0 1.1.9 2 2 2h14c1.1 0 2-.9 2-2V5c0-1.1-.9-2-2-2zM9 17H7v-7h2v7zm4 0h-2V7h2v10zm4 0h-2v-4h2v4z\"/>\n",
       "    </g>\n",
       "</svg>\n",
       "  </button>\n",
       "\n",
       "<style>\n",
       "  .colab-df-quickchart {\n",
       "      --bg-color: #E8F0FE;\n",
       "      --fill-color: #1967D2;\n",
       "      --hover-bg-color: #E2EBFA;\n",
       "      --hover-fill-color: #174EA6;\n",
       "      --disabled-fill-color: #AAA;\n",
       "      --disabled-bg-color: #DDD;\n",
       "  }\n",
       "\n",
       "  [theme=dark] .colab-df-quickchart {\n",
       "      --bg-color: #3B4455;\n",
       "      --fill-color: #D2E3FC;\n",
       "      --hover-bg-color: #434B5C;\n",
       "      --hover-fill-color: #FFFFFF;\n",
       "      --disabled-bg-color: #3B4455;\n",
       "      --disabled-fill-color: #666;\n",
       "  }\n",
       "\n",
       "  .colab-df-quickchart {\n",
       "    background-color: var(--bg-color);\n",
       "    border: none;\n",
       "    border-radius: 50%;\n",
       "    cursor: pointer;\n",
       "    display: none;\n",
       "    fill: var(--fill-color);\n",
       "    height: 32px;\n",
       "    padding: 0;\n",
       "    width: 32px;\n",
       "  }\n",
       "\n",
       "  .colab-df-quickchart:hover {\n",
       "    background-color: var(--hover-bg-color);\n",
       "    box-shadow: 0 1px 2px rgba(60, 64, 67, 0.3), 0 1px 3px 1px rgba(60, 64, 67, 0.15);\n",
       "    fill: var(--button-hover-fill-color);\n",
       "  }\n",
       "\n",
       "  .colab-df-quickchart-complete:disabled,\n",
       "  .colab-df-quickchart-complete:disabled:hover {\n",
       "    background-color: var(--disabled-bg-color);\n",
       "    fill: var(--disabled-fill-color);\n",
       "    box-shadow: none;\n",
       "  }\n",
       "\n",
       "  .colab-df-spinner {\n",
       "    border: 2px solid var(--fill-color);\n",
       "    border-color: transparent;\n",
       "    border-bottom-color: var(--fill-color);\n",
       "    animation:\n",
       "      spin 1s steps(1) infinite;\n",
       "  }\n",
       "\n",
       "  @keyframes spin {\n",
       "    0% {\n",
       "      border-color: transparent;\n",
       "      border-bottom-color: var(--fill-color);\n",
       "      border-left-color: var(--fill-color);\n",
       "    }\n",
       "    20% {\n",
       "      border-color: transparent;\n",
       "      border-left-color: var(--fill-color);\n",
       "      border-top-color: var(--fill-color);\n",
       "    }\n",
       "    30% {\n",
       "      border-color: transparent;\n",
       "      border-left-color: var(--fill-color);\n",
       "      border-top-color: var(--fill-color);\n",
       "      border-right-color: var(--fill-color);\n",
       "    }\n",
       "    40% {\n",
       "      border-color: transparent;\n",
       "      border-right-color: var(--fill-color);\n",
       "      border-top-color: var(--fill-color);\n",
       "    }\n",
       "    60% {\n",
       "      border-color: transparent;\n",
       "      border-right-color: var(--fill-color);\n",
       "    }\n",
       "    80% {\n",
       "      border-color: transparent;\n",
       "      border-right-color: var(--fill-color);\n",
       "      border-bottom-color: var(--fill-color);\n",
       "    }\n",
       "    90% {\n",
       "      border-color: transparent;\n",
       "      border-bottom-color: var(--fill-color);\n",
       "    }\n",
       "  }\n",
       "</style>\n",
       "\n",
       "  <script>\n",
       "    async function quickchart(key) {\n",
       "      const quickchartButtonEl =\n",
       "        document.querySelector('#' + key + ' button');\n",
       "      quickchartButtonEl.disabled = true;  // To prevent multiple clicks.\n",
       "      quickchartButtonEl.classList.add('colab-df-spinner');\n",
       "      try {\n",
       "        const charts = await google.colab.kernel.invokeFunction(\n",
       "            'suggestCharts', [key], {});\n",
       "      } catch (error) {\n",
       "        console.error('Error during call to suggestCharts:', error);\n",
       "      }\n",
       "      quickchartButtonEl.classList.remove('colab-df-spinner');\n",
       "      quickchartButtonEl.classList.add('colab-df-quickchart-complete');\n",
       "    }\n",
       "    (() => {\n",
       "      let quickchartButtonEl =\n",
       "        document.querySelector('#df-97752852-d686-43db-a36b-010895ed6bef button');\n",
       "      quickchartButtonEl.style.display =\n",
       "        google.colab.kernel.accessAllowed ? 'block' : 'none';\n",
       "    })();\n",
       "  </script>\n",
       "</div>\n",
       "    </div>\n",
       "  </div>\n"
      ],
      "text/plain": [
       "   emotion                                             pixels\n",
       "0        0  70 80 82 72 58 58 60 63 54 58 60 48 89 115 121...\n",
       "1        0  151 150 147 155 148 133 111 140 170 174 182 15...\n",
       "2        2  231 212 156 164 174 138 161 173 182 200 106 38...\n",
       "3        4  24 32 36 30 32 23 19 20 30 41 21 22 32 34 21 1...\n",
       "4        6  4 0 0 0 0 0 0 0 0 0 0 0 3 15 23 28 48 50 58 84..."
      ]
     },
     "execution_count": 6,
     "metadata": {},
     "output_type": "execute_result"
    }
   ],
   "source": [
    "train_data.head()"
   ]
  },
  {
   "cell_type": "code",
   "execution_count": null,
   "metadata": {
    "colab": {
     "base_uri": "https://localhost:8080/",
     "height": 206
    },
    "id": "wLJAE4igTOAQ",
    "outputId": "1c7c1724-6cbd-43a8-e8e5-f392fb65d825"
   },
   "outputs": [
    {
     "data": {
      "text/html": [
       "\n",
       "  <div id=\"df-22efd2ca-3494-421b-b3b1-432c41be340d\" class=\"colab-df-container\">\n",
       "    <div>\n",
       "<style scoped>\n",
       "    .dataframe tbody tr th:only-of-type {\n",
       "        vertical-align: middle;\n",
       "    }\n",
       "\n",
       "    .dataframe tbody tr th {\n",
       "        vertical-align: top;\n",
       "    }\n",
       "\n",
       "    .dataframe thead th {\n",
       "        text-align: right;\n",
       "    }\n",
       "</style>\n",
       "<table border=\"1\" class=\"dataframe\">\n",
       "  <thead>\n",
       "    <tr style=\"text-align: right;\">\n",
       "      <th></th>\n",
       "      <th>emotion</th>\n",
       "      <th>pixels</th>\n",
       "    </tr>\n",
       "  </thead>\n",
       "  <tbody>\n",
       "    <tr>\n",
       "      <th>0</th>\n",
       "      <td>0</td>\n",
       "      <td>254 254 254 254 254 249 255 160 2 58 53 70 77 ...</td>\n",
       "    </tr>\n",
       "    <tr>\n",
       "      <th>1</th>\n",
       "      <td>1</td>\n",
       "      <td>156 184 198 202 204 207 210 212 213 214 215 21...</td>\n",
       "    </tr>\n",
       "    <tr>\n",
       "      <th>2</th>\n",
       "      <td>4</td>\n",
       "      <td>69 118 61 60 96 121 103 87 103 88 70 90 115 12...</td>\n",
       "    </tr>\n",
       "    <tr>\n",
       "      <th>3</th>\n",
       "      <td>6</td>\n",
       "      <td>205 203 236 157 83 158 120 116 94 86 155 180 2...</td>\n",
       "    </tr>\n",
       "    <tr>\n",
       "      <th>4</th>\n",
       "      <td>3</td>\n",
       "      <td>87 79 74 66 74 96 77 80 80 84 83 89 102 91 84 ...</td>\n",
       "    </tr>\n",
       "  </tbody>\n",
       "</table>\n",
       "</div>\n",
       "    <div class=\"colab-df-buttons\">\n",
       "\n",
       "  <div class=\"colab-df-container\">\n",
       "    <button class=\"colab-df-convert\" onclick=\"convertToInteractive('df-22efd2ca-3494-421b-b3b1-432c41be340d')\"\n",
       "            title=\"Convert this dataframe to an interactive table.\"\n",
       "            style=\"display:none;\">\n",
       "\n",
       "  <svg xmlns=\"http://www.w3.org/2000/svg\" height=\"24px\" viewBox=\"0 -960 960 960\">\n",
       "    <path d=\"M120-120v-720h720v720H120Zm60-500h600v-160H180v160Zm220 220h160v-160H400v160Zm0 220h160v-160H400v160ZM180-400h160v-160H180v160Zm440 0h160v-160H620v160ZM180-180h160v-160H180v160Zm440 0h160v-160H620v160Z\"/>\n",
       "  </svg>\n",
       "    </button>\n",
       "\n",
       "  <style>\n",
       "    .colab-df-container {\n",
       "      display:flex;\n",
       "      gap: 12px;\n",
       "    }\n",
       "\n",
       "    .colab-df-convert {\n",
       "      background-color: #E8F0FE;\n",
       "      border: none;\n",
       "      border-radius: 50%;\n",
       "      cursor: pointer;\n",
       "      display: none;\n",
       "      fill: #1967D2;\n",
       "      height: 32px;\n",
       "      padding: 0 0 0 0;\n",
       "      width: 32px;\n",
       "    }\n",
       "\n",
       "    .colab-df-convert:hover {\n",
       "      background-color: #E2EBFA;\n",
       "      box-shadow: 0px 1px 2px rgba(60, 64, 67, 0.3), 0px 1px 3px 1px rgba(60, 64, 67, 0.15);\n",
       "      fill: #174EA6;\n",
       "    }\n",
       "\n",
       "    .colab-df-buttons div {\n",
       "      margin-bottom: 4px;\n",
       "    }\n",
       "\n",
       "    [theme=dark] .colab-df-convert {\n",
       "      background-color: #3B4455;\n",
       "      fill: #D2E3FC;\n",
       "    }\n",
       "\n",
       "    [theme=dark] .colab-df-convert:hover {\n",
       "      background-color: #434B5C;\n",
       "      box-shadow: 0px 1px 3px 1px rgba(0, 0, 0, 0.15);\n",
       "      filter: drop-shadow(0px 1px 2px rgba(0, 0, 0, 0.3));\n",
       "      fill: #FFFFFF;\n",
       "    }\n",
       "  </style>\n",
       "\n",
       "    <script>\n",
       "      const buttonEl =\n",
       "        document.querySelector('#df-22efd2ca-3494-421b-b3b1-432c41be340d button.colab-df-convert');\n",
       "      buttonEl.style.display =\n",
       "        google.colab.kernel.accessAllowed ? 'block' : 'none';\n",
       "\n",
       "      async function convertToInteractive(key) {\n",
       "        const element = document.querySelector('#df-22efd2ca-3494-421b-b3b1-432c41be340d');\n",
       "        const dataTable =\n",
       "          await google.colab.kernel.invokeFunction('convertToInteractive',\n",
       "                                                    [key], {});\n",
       "        if (!dataTable) return;\n",
       "\n",
       "        const docLinkHtml = 'Like what you see? Visit the ' +\n",
       "          '<a target=\"_blank\" href=https://colab.research.google.com/notebooks/data_table.ipynb>data table notebook</a>'\n",
       "          + ' to learn more about interactive tables.';\n",
       "        element.innerHTML = '';\n",
       "        dataTable['output_type'] = 'display_data';\n",
       "        await google.colab.output.renderOutput(dataTable, element);\n",
       "        const docLink = document.createElement('div');\n",
       "        docLink.innerHTML = docLinkHtml;\n",
       "        element.appendChild(docLink);\n",
       "      }\n",
       "    </script>\n",
       "  </div>\n",
       "\n",
       "\n",
       "<div id=\"df-02fdbeda-8b6a-4e82-9a50-17b19048ab3c\">\n",
       "  <button class=\"colab-df-quickchart\" onclick=\"quickchart('df-02fdbeda-8b6a-4e82-9a50-17b19048ab3c')\"\n",
       "            title=\"Suggest charts.\"\n",
       "            style=\"display:none;\">\n",
       "\n",
       "<svg xmlns=\"http://www.w3.org/2000/svg\" height=\"24px\"viewBox=\"0 0 24 24\"\n",
       "     width=\"24px\">\n",
       "    <g>\n",
       "        <path d=\"M19 3H5c-1.1 0-2 .9-2 2v14c0 1.1.9 2 2 2h14c1.1 0 2-.9 2-2V5c0-1.1-.9-2-2-2zM9 17H7v-7h2v7zm4 0h-2V7h2v10zm4 0h-2v-4h2v4z\"/>\n",
       "    </g>\n",
       "</svg>\n",
       "  </button>\n",
       "\n",
       "<style>\n",
       "  .colab-df-quickchart {\n",
       "      --bg-color: #E8F0FE;\n",
       "      --fill-color: #1967D2;\n",
       "      --hover-bg-color: #E2EBFA;\n",
       "      --hover-fill-color: #174EA6;\n",
       "      --disabled-fill-color: #AAA;\n",
       "      --disabled-bg-color: #DDD;\n",
       "  }\n",
       "\n",
       "  [theme=dark] .colab-df-quickchart {\n",
       "      --bg-color: #3B4455;\n",
       "      --fill-color: #D2E3FC;\n",
       "      --hover-bg-color: #434B5C;\n",
       "      --hover-fill-color: #FFFFFF;\n",
       "      --disabled-bg-color: #3B4455;\n",
       "      --disabled-fill-color: #666;\n",
       "  }\n",
       "\n",
       "  .colab-df-quickchart {\n",
       "    background-color: var(--bg-color);\n",
       "    border: none;\n",
       "    border-radius: 50%;\n",
       "    cursor: pointer;\n",
       "    display: none;\n",
       "    fill: var(--fill-color);\n",
       "    height: 32px;\n",
       "    padding: 0;\n",
       "    width: 32px;\n",
       "  }\n",
       "\n",
       "  .colab-df-quickchart:hover {\n",
       "    background-color: var(--hover-bg-color);\n",
       "    box-shadow: 0 1px 2px rgba(60, 64, 67, 0.3), 0 1px 3px 1px rgba(60, 64, 67, 0.15);\n",
       "    fill: var(--button-hover-fill-color);\n",
       "  }\n",
       "\n",
       "  .colab-df-quickchart-complete:disabled,\n",
       "  .colab-df-quickchart-complete:disabled:hover {\n",
       "    background-color: var(--disabled-bg-color);\n",
       "    fill: var(--disabled-fill-color);\n",
       "    box-shadow: none;\n",
       "  }\n",
       "\n",
       "  .colab-df-spinner {\n",
       "    border: 2px solid var(--fill-color);\n",
       "    border-color: transparent;\n",
       "    border-bottom-color: var(--fill-color);\n",
       "    animation:\n",
       "      spin 1s steps(1) infinite;\n",
       "  }\n",
       "\n",
       "  @keyframes spin {\n",
       "    0% {\n",
       "      border-color: transparent;\n",
       "      border-bottom-color: var(--fill-color);\n",
       "      border-left-color: var(--fill-color);\n",
       "    }\n",
       "    20% {\n",
       "      border-color: transparent;\n",
       "      border-left-color: var(--fill-color);\n",
       "      border-top-color: var(--fill-color);\n",
       "    }\n",
       "    30% {\n",
       "      border-color: transparent;\n",
       "      border-left-color: var(--fill-color);\n",
       "      border-top-color: var(--fill-color);\n",
       "      border-right-color: var(--fill-color);\n",
       "    }\n",
       "    40% {\n",
       "      border-color: transparent;\n",
       "      border-right-color: var(--fill-color);\n",
       "      border-top-color: var(--fill-color);\n",
       "    }\n",
       "    60% {\n",
       "      border-color: transparent;\n",
       "      border-right-color: var(--fill-color);\n",
       "    }\n",
       "    80% {\n",
       "      border-color: transparent;\n",
       "      border-right-color: var(--fill-color);\n",
       "      border-bottom-color: var(--fill-color);\n",
       "    }\n",
       "    90% {\n",
       "      border-color: transparent;\n",
       "      border-bottom-color: var(--fill-color);\n",
       "    }\n",
       "  }\n",
       "</style>\n",
       "\n",
       "  <script>\n",
       "    async function quickchart(key) {\n",
       "      const quickchartButtonEl =\n",
       "        document.querySelector('#' + key + ' button');\n",
       "      quickchartButtonEl.disabled = true;  // To prevent multiple clicks.\n",
       "      quickchartButtonEl.classList.add('colab-df-spinner');\n",
       "      try {\n",
       "        const charts = await google.colab.kernel.invokeFunction(\n",
       "            'suggestCharts', [key], {});\n",
       "      } catch (error) {\n",
       "        console.error('Error during call to suggestCharts:', error);\n",
       "      }\n",
       "      quickchartButtonEl.classList.remove('colab-df-spinner');\n",
       "      quickchartButtonEl.classList.add('colab-df-quickchart-complete');\n",
       "    }\n",
       "    (() => {\n",
       "      let quickchartButtonEl =\n",
       "        document.querySelector('#df-02fdbeda-8b6a-4e82-9a50-17b19048ab3c button');\n",
       "      quickchartButtonEl.style.display =\n",
       "        google.colab.kernel.accessAllowed ? 'block' : 'none';\n",
       "    })();\n",
       "  </script>\n",
       "</div>\n",
       "    </div>\n",
       "  </div>\n"
      ],
      "text/plain": [
       "   emotion                                             pixels\n",
       "0        0  254 254 254 254 254 249 255 160 2 58 53 70 77 ...\n",
       "1        1  156 184 198 202 204 207 210 212 213 214 215 21...\n",
       "2        4  69 118 61 60 96 121 103 87 103 88 70 90 115 12...\n",
       "3        6  205 203 236 157 83 158 120 116 94 86 155 180 2...\n",
       "4        3  87 79 74 66 74 96 77 80 80 84 83 89 102 91 84 ..."
      ]
     },
     "execution_count": 7,
     "metadata": {},
     "output_type": "execute_result"
    }
   ],
   "source": [
    "test_data.head()"
   ]
  },
  {
   "cell_type": "code",
   "execution_count": null,
   "metadata": {
    "colab": {
     "base_uri": "https://localhost:8080/"
    },
    "id": "NBCdKW5oTwW2",
    "outputId": "d4b90dcb-2e90-4cab-dfa3-7655d6fdc52f"
   },
   "outputs": [
    {
     "name": "stdout",
     "output_type": "stream",
     "text": [
      "3    7215\n",
      "6    4965\n",
      "4    4830\n",
      "2    4097\n",
      "0    3995\n",
      "5    3171\n",
      "1     436\n",
      "Name: emotion, dtype: int64\n",
      "3    895\n",
      "4    653\n",
      "6    607\n",
      "2    496\n",
      "0    467\n",
      "5    415\n",
      "1     56\n",
      "Name: emotion, dtype: int64\n"
     ]
    }
   ],
   "source": [
    "print(train_data['emotion'].value_counts())\n",
    "print(test_data['emotion'].value_counts())"
   ]
  },
  {
   "cell_type": "code",
   "execution_count": null,
   "metadata": {
    "id": "7lZJctVZTPpW"
   },
   "outputs": [],
   "source": [
    "#Extracting and preprocessing the pixel values\n",
    "\n",
    "train_pixels = train_data['pixels'].apply(lambda x: np.fromstring(x, dtype=int, sep=' ') / 255.0)\n",
    "test_pixels = test_data['pixels'].apply(lambda x: np.fromstring(x, dtype=int, sep=' ') / 255.0)"
   ]
  },
  {
   "cell_type": "code",
   "execution_count": null,
   "metadata": {
    "id": "rV42Z7_uTmuw"
   },
   "outputs": [],
   "source": [
    "#Reshaping the pixel arrays\n",
    "\n",
    "image_size = 48\n",
    "train_images = np.vstack(train_pixels).reshape(-1, image_size, image_size, 1)\n",
    "test_images = np.vstack(test_pixels).reshape(-1, image_size, image_size, 1)"
   ]
  },
  {
   "cell_type": "code",
   "execution_count": null,
   "metadata": {
    "id": "i6BbMTdmTpdU"
   },
   "outputs": [],
   "source": [
    "#Encoding the emotion labels\n",
    "\n",
    "train_labels = to_categorical(train_data['emotion'], num_classes=7)"
   ]
  },
  {
   "cell_type": "markdown",
   "metadata": {
    "id": "L5DkmjeySTLn"
   },
   "source": [
    "_____________________________\n",
    "## Modeling"
   ]
  },
  {
   "cell_type": "markdown",
   "metadata": {
    "id": "pRQo8lelSTPc"
   },
   "source": [
    "### Basic CNN Model - Two Convolutional Blocks, No Early Stopping, 10 Epochs:"
   ]
  },
  {
   "cell_type": "code",
   "execution_count": null,
   "metadata": {
    "colab": {
     "base_uri": "https://localhost:8080/"
    },
    "id": "oWMVba__UP05",
    "outputId": "572ded79-3197-4eac-d53b-8729cff683a1"
   },
   "outputs": [
    {
     "name": "stdout",
     "output_type": "stream",
     "text": [
      "Epoch 1/10\n",
      "718/718 [==============================] - 77s 105ms/step - loss: 1.7188 - accuracy: 0.3109 - val_loss: 1.5338 - val_accuracy: 0.4096\n",
      "Epoch 2/10\n",
      "718/718 [==============================] - 80s 111ms/step - loss: 1.5335 - accuracy: 0.4090 - val_loss: 1.4061 - val_accuracy: 0.4636\n",
      "Epoch 3/10\n",
      "718/718 [==============================] - 71s 100ms/step - loss: 1.4431 - accuracy: 0.4452 - val_loss: 1.3525 - val_accuracy: 0.4855\n",
      "Epoch 4/10\n",
      "718/718 [==============================] - 73s 102ms/step - loss: 1.3835 - accuracy: 0.4715 - val_loss: 1.3110 - val_accuracy: 0.5000\n",
      "Epoch 5/10\n",
      "718/718 [==============================] - 72s 100ms/step - loss: 1.3331 - accuracy: 0.4889 - val_loss: 1.2872 - val_accuracy: 0.5080\n",
      "Epoch 6/10\n",
      "718/718 [==============================] - 71s 99ms/step - loss: 1.2879 - accuracy: 0.5039 - val_loss: 1.2710 - val_accuracy: 0.5192\n",
      "Epoch 7/10\n",
      "718/718 [==============================] - 80s 112ms/step - loss: 1.2492 - accuracy: 0.5223 - val_loss: 1.2685 - val_accuracy: 0.5125\n",
      "Epoch 8/10\n",
      "718/718 [==============================] - 72s 100ms/step - loss: 1.2129 - accuracy: 0.5381 - val_loss: 1.2562 - val_accuracy: 0.5244\n",
      "Epoch 9/10\n",
      "718/718 [==============================] - 75s 105ms/step - loss: 1.1700 - accuracy: 0.5448 - val_loss: 1.2370 - val_accuracy: 0.5313\n",
      "Epoch 10/10\n",
      "718/718 [==============================] - 72s 100ms/step - loss: 1.1262 - accuracy: 0.5666 - val_loss: 1.2508 - val_accuracy: 0.5287\n"
     ]
    },
    {
     "data": {
      "text/plain": [
       "<keras.src.callbacks.History at 0x7b2faaa8c9d0>"
      ]
     },
     "execution_count": 16,
     "metadata": {},
     "output_type": "execute_result"
    }
   ],
   "source": [
    "model = Sequential([\n",
    "    Conv2D(32, (3, 3), activation='relu', input_shape=(image_size, image_size, 1)),\n",
    "    MaxPooling2D((2, 2)),\n",
    "    Conv2D(64, (3, 3), activation='relu'),\n",
    "    MaxPooling2D((2, 2)),\n",
    "    Flatten(),\n",
    "    Dense(128, activation='relu'),\n",
    "    Dropout(0.5),\n",
    "    Dense(7, activation='softmax')\n",
    "])\n",
    "\n",
    "model.compile(optimizer='adam', loss='categorical_crossentropy', metrics=['accuracy'])\n",
    "\n",
    "model.fit(train_images, train_labels, epochs=10, validation_split=0.2)"
   ]
  },
  {
   "cell_type": "markdown",
   "metadata": {
    "id": "3a7ufxYHXLvJ"
   },
   "source": [
    "As we can see above, this basic CNN model concluded with an training accuracy of about 0.57, and a testing accuracy of about 0.53. Although our previous model (a CNN with early stopping, using the .jpg/image data) performed better regarding testing accuracy (~0.70), the model above performed significantly better in regard to variance (difference of ~0.15 between acc and val_acc in the previous model, vs a difference of ~0.04 in the above model). This is an indication that by training our models on .csv data may be moving us in a positive direction to create a better model."
   ]
  },
  {
   "cell_type": "markdown",
   "metadata": {
    "id": "VJ9nFfK4U1y1"
   },
   "source": [
    "### Repeating Above Model for 25 Epochs:"
   ]
  },
  {
   "cell_type": "code",
   "execution_count": null,
   "metadata": {
    "colab": {
     "base_uri": "https://localhost:8080/"
    },
    "id": "7aPx-aWmU3dm",
    "outputId": "0be1bb6e-1700-47c8-ec8b-0fcbbb6735ea"
   },
   "outputs": [
    {
     "name": "stdout",
     "output_type": "stream",
     "text": [
      "Epoch 1/25\n",
      "718/718 [==============================] - 69s 94ms/step - loss: 1.6957 - accuracy: 0.3217 - val_loss: 1.5154 - val_accuracy: 0.4115\n",
      "Epoch 2/25\n",
      "718/718 [==============================] - 66s 92ms/step - loss: 1.5278 - accuracy: 0.4066 - val_loss: 1.4129 - val_accuracy: 0.4549\n",
      "Epoch 3/25\n",
      "718/718 [==============================] - 66s 91ms/step - loss: 1.4372 - accuracy: 0.4483 - val_loss: 1.3503 - val_accuracy: 0.4788\n",
      "Epoch 4/25\n",
      "718/718 [==============================] - 66s 92ms/step - loss: 1.3741 - accuracy: 0.4715 - val_loss: 1.3100 - val_accuracy: 0.5007\n",
      "Epoch 5/25\n",
      "718/718 [==============================] - 66s 92ms/step - loss: 1.3300 - accuracy: 0.4865 - val_loss: 1.2938 - val_accuracy: 0.5115\n",
      "Epoch 6/25\n",
      "718/718 [==============================] - 64s 90ms/step - loss: 1.2844 - accuracy: 0.5033 - val_loss: 1.2792 - val_accuracy: 0.5124\n",
      "Epoch 7/25\n",
      "718/718 [==============================] - 68s 95ms/step - loss: 1.2460 - accuracy: 0.5181 - val_loss: 1.2546 - val_accuracy: 0.5209\n",
      "Epoch 8/25\n",
      "718/718 [==============================] - 65s 91ms/step - loss: 1.2069 - accuracy: 0.5352 - val_loss: 1.2487 - val_accuracy: 0.5256\n",
      "Epoch 9/25\n",
      "718/718 [==============================] - 70s 98ms/step - loss: 1.1664 - accuracy: 0.5533 - val_loss: 1.2473 - val_accuracy: 0.5305\n",
      "Epoch 10/25\n",
      "718/718 [==============================] - 67s 94ms/step - loss: 1.1280 - accuracy: 0.5645 - val_loss: 1.2457 - val_accuracy: 0.5301\n",
      "Epoch 11/25\n",
      "718/718 [==============================] - 66s 92ms/step - loss: 1.0889 - accuracy: 0.5782 - val_loss: 1.2445 - val_accuracy: 0.5354\n",
      "Epoch 12/25\n",
      "718/718 [==============================] - 64s 89ms/step - loss: 1.0392 - accuracy: 0.5972 - val_loss: 1.2658 - val_accuracy: 0.5347\n",
      "Epoch 13/25\n",
      "718/718 [==============================] - 65s 91ms/step - loss: 1.0097 - accuracy: 0.6089 - val_loss: 1.2742 - val_accuracy: 0.5376\n",
      "Epoch 14/25\n",
      "718/718 [==============================] - 63s 88ms/step - loss: 0.9761 - accuracy: 0.6188 - val_loss: 1.2988 - val_accuracy: 0.5357\n",
      "Epoch 15/25\n",
      "718/718 [==============================] - 63s 88ms/step - loss: 0.9345 - accuracy: 0.6364 - val_loss: 1.3012 - val_accuracy: 0.5385\n",
      "Epoch 16/25\n",
      "718/718 [==============================] - 65s 91ms/step - loss: 0.9042 - accuracy: 0.6444 - val_loss: 1.3390 - val_accuracy: 0.5402\n",
      "Epoch 17/25\n",
      "718/718 [==============================] - 64s 89ms/step - loss: 0.8641 - accuracy: 0.6617 - val_loss: 1.3491 - val_accuracy: 0.5366\n",
      "Epoch 18/25\n",
      "718/718 [==============================] - 66s 92ms/step - loss: 0.8309 - accuracy: 0.6723 - val_loss: 1.3420 - val_accuracy: 0.5401\n",
      "Epoch 19/25\n",
      "718/718 [==============================] - 64s 89ms/step - loss: 0.8019 - accuracy: 0.6842 - val_loss: 1.4363 - val_accuracy: 0.5404\n",
      "Epoch 20/25\n",
      "718/718 [==============================] - 64s 89ms/step - loss: 0.7670 - accuracy: 0.6960 - val_loss: 1.4943 - val_accuracy: 0.5441\n",
      "Epoch 21/25\n",
      "718/718 [==============================] - 68s 94ms/step - loss: 0.7500 - accuracy: 0.7046 - val_loss: 1.4246 - val_accuracy: 0.5404\n",
      "Epoch 22/25\n",
      "718/718 [==============================] - 64s 90ms/step - loss: 0.7209 - accuracy: 0.7111 - val_loss: 1.4731 - val_accuracy: 0.5371\n",
      "Epoch 23/25\n",
      "718/718 [==============================] - 66s 92ms/step - loss: 0.6940 - accuracy: 0.7249 - val_loss: 1.5238 - val_accuracy: 0.5352\n",
      "Epoch 24/25\n",
      "718/718 [==============================] - 64s 90ms/step - loss: 0.6739 - accuracy: 0.7268 - val_loss: 1.5683 - val_accuracy: 0.5385\n",
      "Epoch 25/25\n",
      "718/718 [==============================] - 67s 93ms/step - loss: 0.6553 - accuracy: 0.7336 - val_loss: 1.5869 - val_accuracy: 0.5395\n"
     ]
    },
    {
     "data": {
      "text/plain": [
       "<keras.src.callbacks.History at 0x7e7e7449c190>"
      ]
     },
     "execution_count": 12,
     "metadata": {},
     "output_type": "execute_result"
    }
   ],
   "source": [
    "model2 = Sequential([\n",
    "    Conv2D(32, (3, 3), activation='relu', input_shape=(image_size, image_size, 1)),\n",
    "    MaxPooling2D((2, 2)),\n",
    "    Conv2D(64, (3, 3), activation='relu'),\n",
    "    MaxPooling2D((2, 2)),\n",
    "    Flatten(),\n",
    "    Dense(128, activation='relu'),\n",
    "    Dropout(0.5),\n",
    "    Dense(7, activation='softmax')\n",
    "])\n",
    "\n",
    "model2.compile(optimizer='adam', loss='categorical_crossentropy', metrics=['accuracy'])\n",
    "\n",
    "model2.fit(train_images, train_labels, epochs=25, validation_split=0.2)"
   ]
  },
  {
   "cell_type": "markdown",
   "metadata": {
    "id": "0EGFx0WWZltt"
   },
   "source": [
    "After trying to run the previous model again for 25 epochs instead of 10, we can see that more adjustments will be needed if we want to meet the \"70% accuracy on both the training and testing set\" criteria. The above model performed well until it reached the 12th epoch, where it started to become overfit. Below I will try to add in early stopping and another convolutional block to see if it makes a difference."
   ]
  },
  {
   "cell_type": "markdown",
   "metadata": {
    "id": "RUVqwm5elSGE"
   },
   "source": [
    "### CNN Model - 3 Convolutional Blocks, Early Stopping, set for 25 Epochs:"
   ]
  },
  {
   "cell_type": "code",
   "execution_count": null,
   "metadata": {
    "colab": {
     "base_uri": "https://localhost:8080/"
    },
    "id": "309XOYOITP1O",
    "outputId": "4c31ae0d-5ffa-4c0b-ffec-c6fc0c0193b5"
   },
   "outputs": [
    {
     "name": "stdout",
     "output_type": "stream",
     "text": [
      "Epoch 1/25\n",
      "718/718 [==============================] - 81s 105ms/step - loss: 1.7506 - accuracy: 0.2875 - val_loss: 1.5863 - val_accuracy: 0.4011\n",
      "Epoch 2/25\n",
      "718/718 [==============================] - 76s 106ms/step - loss: 1.5223 - accuracy: 0.4065 - val_loss: 1.3911 - val_accuracy: 0.4709\n",
      "Epoch 3/25\n",
      "718/718 [==============================] - 77s 107ms/step - loss: 1.4109 - accuracy: 0.4550 - val_loss: 1.3154 - val_accuracy: 0.4946\n",
      "Epoch 4/25\n",
      "718/718 [==============================] - 76s 106ms/step - loss: 1.3329 - accuracy: 0.4887 - val_loss: 1.2653 - val_accuracy: 0.5171\n",
      "Epoch 5/25\n",
      "718/718 [==============================] - 77s 107ms/step - loss: 1.2767 - accuracy: 0.5102 - val_loss: 1.2319 - val_accuracy: 0.5275\n",
      "Epoch 6/25\n",
      "718/718 [==============================] - 80s 112ms/step - loss: 1.2246 - accuracy: 0.5349 - val_loss: 1.1893 - val_accuracy: 0.5536\n",
      "Epoch 7/25\n",
      "718/718 [==============================] - 77s 107ms/step - loss: 1.1803 - accuracy: 0.5524 - val_loss: 1.1865 - val_accuracy: 0.5437\n",
      "Epoch 8/25\n",
      "718/718 [==============================] - 79s 110ms/step - loss: 1.1313 - accuracy: 0.5694 - val_loss: 1.1711 - val_accuracy: 0.5566\n",
      "Epoch 9/25\n",
      "718/718 [==============================] - 80s 112ms/step - loss: 1.0848 - accuracy: 0.5888 - val_loss: 1.1783 - val_accuracy: 0.5519\n",
      "Epoch 10/25\n",
      "718/718 [==============================] - 76s 106ms/step - loss: 1.0426 - accuracy: 0.6047 - val_loss: 1.1979 - val_accuracy: 0.5596\n",
      "Epoch 11/25\n",
      "718/718 [==============================] - 77s 107ms/step - loss: 1.0040 - accuracy: 0.6204 - val_loss: 1.1993 - val_accuracy: 0.5639\n",
      "Epoch 12/25\n",
      "718/718 [==============================] - 81s 112ms/step - loss: 0.9599 - accuracy: 0.6359 - val_loss: 1.1895 - val_accuracy: 0.5634\n",
      "Epoch 13/25\n",
      "718/718 [==============================] - 77s 107ms/step - loss: 0.9194 - accuracy: 0.6520 - val_loss: 1.2173 - val_accuracy: 0.5613\n"
     ]
    }
   ],
   "source": [
    "# Define your model with additional layers\n",
    "model3 = Sequential([\n",
    "    Conv2D(32, (3, 3), activation='relu', input_shape=(image_size, image_size, 1)),\n",
    "    MaxPooling2D((2, 2)),\n",
    "    Conv2D(64, (3, 3), activation='relu'),\n",
    "    MaxPooling2D((2, 2)),\n",
    "    Conv2D(128, (3, 3), activation='relu'),  # Additional Conv2D layer\n",
    "    MaxPooling2D((2, 2)),\n",
    "    Flatten(),\n",
    "    Dense(128, activation='relu'),\n",
    "    Dropout(0.5),\n",
    "    Dense(7, activation='softmax')\n",
    "])\n",
    "\n",
    "model3.compile(optimizer='adam', loss='categorical_crossentropy', metrics=['accuracy'])\n",
    "\n",
    "# Implement early stopping\n",
    "early_stopping = EarlyStopping(monitor='val_loss', patience=5, restore_best_weights=True)\n",
    "\n",
    "# Fit the model with early stopping\n",
    "history = model3.fit(\n",
    "    train_images, train_labels,\n",
    "    epochs=25,\n",
    "    validation_split=0.2,\n",
    "    callbacks=[early_stopping]  # Add early stopping callback\n",
    ")"
   ]
  },
  {
   "cell_type": "markdown",
   "metadata": {
    "id": "frqsvXTiat4G"
   },
   "source": [
    "As we can see above, the adjustments made to the previous model had little to no effect on combating high variance. The model ended up concluding at 13 epochs due to the early stopping clause. Below, I will try a regularization technique to see if we can solve the overfitting issue."
   ]
  },
  {
   "cell_type": "markdown",
   "metadata": {
    "id": "4mPkaUimoAfC"
   },
   "source": [
    "### Repeating Above Model, Adding L2 Regularizers to Combat Overfitting:"
   ]
  },
  {
   "cell_type": "code",
   "execution_count": null,
   "metadata": {
    "colab": {
     "base_uri": "https://localhost:8080/"
    },
    "id": "HcgmRqyWolSv",
    "outputId": "87720040-4e96-4779-bd2e-64fa4b595c4e"
   },
   "outputs": [
    {
     "name": "stdout",
     "output_type": "stream",
     "text": [
      "Epoch 1/25\n",
      "718/718 [==============================] - 95s 130ms/step - loss: 1.9553 - accuracy: 0.2427 - val_loss: 1.8138 - val_accuracy: 0.2517\n",
      "Epoch 2/25\n",
      "718/718 [==============================] - 93s 129ms/step - loss: 1.8205 - accuracy: 0.2512 - val_loss: 1.8101 - val_accuracy: 0.2517\n",
      "Epoch 3/25\n",
      "718/718 [==============================] - 88s 123ms/step - loss: 1.8155 - accuracy: 0.2512 - val_loss: 1.8082 - val_accuracy: 0.2517\n",
      "Epoch 4/25\n",
      "718/718 [==============================] - 88s 123ms/step - loss: 1.8140 - accuracy: 0.2512 - val_loss: 1.8071 - val_accuracy: 0.2517\n",
      "Epoch 5/25\n",
      "718/718 [==============================] - 87s 122ms/step - loss: 1.8129 - accuracy: 0.2512 - val_loss: 1.8071 - val_accuracy: 0.2517\n",
      "Epoch 6/25\n",
      "718/718 [==============================] - 91s 126ms/step - loss: 1.8123 - accuracy: 0.2512 - val_loss: 1.8081 - val_accuracy: 0.2517\n",
      "Epoch 7/25\n",
      "718/718 [==============================] - 87s 122ms/step - loss: 1.8122 - accuracy: 0.2512 - val_loss: 1.8074 - val_accuracy: 0.2517\n",
      "Epoch 8/25\n",
      "718/718 [==============================] - 86s 119ms/step - loss: 1.8120 - accuracy: 0.2512 - val_loss: 1.8074 - val_accuracy: 0.2517\n",
      "Epoch 9/25\n",
      "718/718 [==============================] - 90s 125ms/step - loss: 1.8121 - accuracy: 0.2512 - val_loss: 1.8074 - val_accuracy: 0.2517\n",
      "Epoch 10/25\n",
      "718/718 [==============================] - 87s 121ms/step - loss: 1.8116 - accuracy: 0.2512 - val_loss: 1.8074 - val_accuracy: 0.2517\n"
     ]
    }
   ],
   "source": [
    "# Define your model with L2 regularization\n",
    "model4 = Sequential([\n",
    "    Conv2D(32, (3, 3), activation='relu', input_shape=(image_size, image_size, 1),\n",
    "           kernel_regularizer=l2(0.01)),  # Add L2 regularization\n",
    "    MaxPooling2D((2, 2)),\n",
    "    Conv2D(64, (3, 3), activation='relu', kernel_regularizer=l2(0.01)),  # Add L2 regularization\n",
    "    MaxPooling2D((2, 2)),\n",
    "    Conv2D(128, (3, 3), activation='relu', kernel_regularizer=l2(0.01)),  # Add L2 regularization\n",
    "    MaxPooling2D((2, 2)),\n",
    "    Flatten(),\n",
    "    Dense(128, activation='relu', kernel_regularizer=l2(0.01)),  # Add L2 regularization\n",
    "    Dropout(0.5),\n",
    "    Dense(7, activation='softmax')\n",
    "])\n",
    "\n",
    "model4.compile(optimizer='adam', loss='categorical_crossentropy', metrics=['accuracy'])\n",
    "\n",
    "# Implement early stopping\n",
    "early_stopping = EarlyStopping(monitor='val_loss', patience=5, restore_best_weights=True)\n",
    "\n",
    "# Fit the model with early stopping\n",
    "history = model4.fit(\n",
    "    train_images, train_labels,\n",
    "    epochs=25,\n",
    "    validation_split=0.2,\n",
    "    callbacks=[early_stopping]  # Add early stopping callback\n",
    ")"
   ]
  },
  {
   "cell_type": "markdown",
   "metadata": {
    "id": "Srx5KsPrbXCp"
   },
   "source": [
    "Our model performed much better in terms of being overfit, although it stopped at the 10th epoch due to our validation loss not improving for 5 straight epochs, and our accuracy scores ended up being very poor. It appears we injected too much bias in our model in attempt to combat high variance.\n",
    "\n",
    "At this point, after making six different models using the same data (2 with the .jgp data, 4 with the .csv data), a new approach might be necessary. It is possible that the labeling in the FER2013 data may not be have been done as accurately as we would need it to be in order to reasonably create a model that will score a 70% accuracy on both the training and testing set.\n",
    "\n",
    "With this insight, I will try to fit new models on a new dataset, specifically being the CK+ (Cohn-Kanade) dataset, which is specifically designed for facial expression analysis, and often used for more detailed studies. We will see if this new dataset has an effect on our ability to create a model that scores a 70% accuracy on both the training and testing set.\n",
    "____________________________________________"
   ]
  },
  {
   "cell_type": "markdown",
   "metadata": {
    "id": "iGixf6vTomVa"
   },
   "source": [
    "# Modeling CK+ Dataset"
   ]
  },
  {
   "cell_type": "code",
   "execution_count": null,
   "metadata": {
    "id": "_oQgdF2vozWK"
   },
   "outputs": [],
   "source": [
    "# Reading in the data\n",
    "\n",
    "data2 = pd.read_csv('/content/drive/MyDrive/GA Data Science Bootcamp/Projects/Capstone Project/CK+_dataset/ckextended.csv')"
   ]
  },
  {
   "cell_type": "code",
   "execution_count": null,
   "metadata": {
    "id": "46EuC3BagtJR"
   },
   "outputs": [],
   "source": [
    "pixel_data = data2['pixels'].apply(lambda x: np.fromstring(x, sep=' ')) # Extracting and preprocess pixel data\n",
    "emotion_labels = data2['emotion'] # Extracting emotion labels from the 'emotion' column"
   ]
  },
  {
   "cell_type": "code",
   "execution_count": null,
   "metadata": {
    "id": "7EUByubYgwY_"
   },
   "outputs": [],
   "source": [
    "# Creating a 2D NumPy array and reshaping it into 3D arrays\n",
    "\n",
    "image_data = np.vstack(pixel_data.to_numpy()).reshape(-1, 48, 48, 1).astype('float32')"
   ]
  },
  {
   "cell_type": "code",
   "execution_count": null,
   "metadata": {
    "id": "uN1X9guygxiz"
   },
   "outputs": [],
   "source": [
    "# NormalizING the pixel values\n",
    "\n",
    "image_data /= 255.0"
   ]
  },
  {
   "cell_type": "code",
   "execution_count": null,
   "metadata": {
    "id": "INAUdLCOgywT"
   },
   "outputs": [],
   "source": [
    "# Convert emotion labels to one-hot encoded categorical format\n",
    "emotion_labels_categorical = to_categorical(emotion_labels, num_classes=8)\n",
    "\n",
    "# Setting up training and testing sets\n",
    "X_train, X_test, y_train, y_test = train_test_split(\n",
    "    image_data,\n",
    "    emotion_labels_categorical,\n",
    "    test_size=0.2,\n",
    "    random_state=42\n",
    ")"
   ]
  },
  {
   "cell_type": "markdown",
   "metadata": {
    "id": "MZ5TddDvrp69"
   },
   "source": [
    "### Basic CNN Model - Two Convolutional Blocks with Early Stopping, 10 Epochs:"
   ]
  },
  {
   "cell_type": "code",
   "execution_count": null,
   "metadata": {
    "id": "-10y5h8mg0EA"
   },
   "outputs": [],
   "source": [
    "model5 = Sequential([\n",
    "    layers.Conv2D(32, (3, 3), activation='relu', input_shape=(48, 48, 1)),\n",
    "    layers.MaxPooling2D((2, 2)),\n",
    "    layers.Conv2D(64, (3, 3), activation='relu'),\n",
    "    layers.MaxPooling2D((2, 2)),\n",
    "    layers.Flatten(),\n",
    "    layers.Dense(128, activation='relu'),\n",
    "    layers.Dropout(0.5),\n",
    "    layers.Dense(8, activation='softmax')\n",
    "])\n",
    "\n",
    "model5.compile(optimizer='adam', loss='categorical_crossentropy', metrics=['accuracy'])"
   ]
  },
  {
   "cell_type": "code",
   "execution_count": null,
   "metadata": {
    "id": "VjiAJQqt0Sgx"
   },
   "outputs": [],
   "source": [
    "# Define early stopping callback\n",
    "early_stopping = EarlyStopping(monitor='val_loss', patience=5, restore_best_weights=True)"
   ]
  },
  {
   "cell_type": "code",
   "execution_count": null,
   "metadata": {
    "colab": {
     "base_uri": "https://localhost:8080/"
    },
    "id": "bXEDasdMg3hA",
    "outputId": "2567e1f3-1e80-4a2e-b8dc-9ea09bdf066d"
   },
   "outputs": [
    {
     "name": "stdout",
     "output_type": "stream",
     "text": [
      "Epoch 1/15\n",
      "19/19 [==============================] - 2s 61ms/step - loss: 1.5261 - accuracy: 0.6054 - val_loss: 1.2537 - val_accuracy: 0.6892\n",
      "Epoch 2/15\n",
      "19/19 [==============================] - 1s 55ms/step - loss: 1.3723 - accuracy: 0.6344 - val_loss: 1.1721 - val_accuracy: 0.6892\n",
      "Epoch 3/15\n",
      "19/19 [==============================] - 1s 54ms/step - loss: 1.2581 - accuracy: 0.6361 - val_loss: 1.1187 - val_accuracy: 0.6892\n",
      "Epoch 4/15\n",
      "19/19 [==============================] - 1s 69ms/step - loss: 1.1657 - accuracy: 0.6633 - val_loss: 0.9440 - val_accuracy: 0.7230\n",
      "Epoch 5/15\n",
      "19/19 [==============================] - 1s 78ms/step - loss: 0.9681 - accuracy: 0.7262 - val_loss: 0.8343 - val_accuracy: 0.7703\n",
      "Epoch 6/15\n",
      "19/19 [==============================] - 1s 71ms/step - loss: 0.8437 - accuracy: 0.7517 - val_loss: 0.7880 - val_accuracy: 0.7770\n",
      "Epoch 7/15\n",
      "19/19 [==============================] - 1s 55ms/step - loss: 0.8202 - accuracy: 0.7670 - val_loss: 0.7608 - val_accuracy: 0.7838\n",
      "Epoch 8/15\n",
      "19/19 [==============================] - 1s 64ms/step - loss: 0.7032 - accuracy: 0.8010 - val_loss: 0.7205 - val_accuracy: 0.7838\n",
      "Epoch 9/15\n",
      "19/19 [==============================] - 1s 60ms/step - loss: 0.6352 - accuracy: 0.8197 - val_loss: 0.6589 - val_accuracy: 0.8041\n",
      "Epoch 10/15\n",
      "19/19 [==============================] - 1s 52ms/step - loss: 0.6070 - accuracy: 0.8248 - val_loss: 0.6336 - val_accuracy: 0.8041\n",
      "Epoch 11/15\n",
      "19/19 [==============================] - 1s 52ms/step - loss: 0.5396 - accuracy: 0.8299 - val_loss: 0.5861 - val_accuracy: 0.8176\n",
      "Epoch 12/15\n",
      "19/19 [==============================] - 1s 53ms/step - loss: 0.5193 - accuracy: 0.8401 - val_loss: 0.5570 - val_accuracy: 0.8378\n",
      "Epoch 13/15\n",
      "19/19 [==============================] - 1s 53ms/step - loss: 0.4626 - accuracy: 0.8537 - val_loss: 0.5318 - val_accuracy: 0.8446\n",
      "Epoch 14/15\n",
      "19/19 [==============================] - 1s 52ms/step - loss: 0.4599 - accuracy: 0.8469 - val_loss: 0.5209 - val_accuracy: 0.8446\n",
      "Epoch 15/15\n",
      "19/19 [==============================] - 1s 57ms/step - loss: 0.3700 - accuracy: 0.8707 - val_loss: 0.4764 - val_accuracy: 0.8581\n"
     ]
    }
   ],
   "source": [
    "# Fit the model with early stopping\n",
    "history5 = model5.fit(\n",
    "    X_train, y_train,\n",
    "    epochs=15,\n",
    "    validation_split=0.2,\n",
    "    callbacks=[early_stopping]  # Add early stopping callback\n",
    ")"
   ]
  },
  {
   "cell_type": "markdown",
   "metadata": {
    "id": "6buz0cyu1neH"
   },
   "source": [
    "As we can see above, our model performed much better when fit using the CK+ dataset. With an training accuracy of about 0.87 and a testing accuracy of about 0.86, the above model significantly outperformed all of our previous models in terms of both accuracy and variance. I will try another model below, where I increase the number of epochs and add in another convolutional block to see if we can increase the training and testing accuracy even further."
   ]
  },
  {
   "cell_type": "markdown",
   "metadata": {
    "id": "CrY_Bky_2XDc"
   },
   "source": [
    "### CNN Model - 3 Convolutional Blocks, Early Stopping, set for 40 Epochs:"
   ]
  },
  {
   "cell_type": "code",
   "execution_count": null,
   "metadata": {
    "id": "7EEmSaGFhrL2"
   },
   "outputs": [],
   "source": [
    "model6 = Sequential([\n",
    "    Conv2D(32, (3, 3), activation='relu', input_shape=(48, 48, 1)),\n",
    "    MaxPooling2D((2, 2)),\n",
    "    Conv2D(64, (3, 3), activation='relu'),\n",
    "    MaxPooling2D((2, 2)),\n",
    "    Conv2D(128, (3, 3), activation='relu'),\n",
    "    MaxPooling2D((2, 2)),\n",
    "    Flatten(),\n",
    "    Dense(128, activation='relu'),\n",
    "    Dropout(0.5),\n",
    "    Dense(8, activation='softmax')\n",
    "])\n",
    "\n",
    "# Compile the model\n",
    "model6.compile(optimizer='adam', loss='categorical_crossentropy', metrics=['accuracy'])"
   ]
  },
  {
   "cell_type": "code",
   "execution_count": null,
   "metadata": {
    "colab": {
     "base_uri": "https://localhost:8080/"
    },
    "id": "1__Fbgsat8hh",
    "outputId": "c89f480c-9f23-48cb-c5ff-118ddfc2ee2c"
   },
   "outputs": [
    {
     "name": "stdout",
     "output_type": "stream",
     "text": [
      "Epoch 1/40\n",
      "19/19 [==============================] - 3s 126ms/step - loss: 1.5895 - accuracy: 0.6003 - val_loss: 1.2210 - val_accuracy: 0.6892\n",
      "Epoch 2/40\n",
      "19/19 [==============================] - 1s 63ms/step - loss: 1.3927 - accuracy: 0.6344 - val_loss: 1.1945 - val_accuracy: 0.6892\n",
      "Epoch 3/40\n",
      "19/19 [==============================] - 1s 62ms/step - loss: 1.4241 - accuracy: 0.6344 - val_loss: 1.1906 - val_accuracy: 0.6892\n",
      "Epoch 4/40\n",
      "19/19 [==============================] - 1s 64ms/step - loss: 1.4090 - accuracy: 0.6344 - val_loss: 1.2583 - val_accuracy: 0.6892\n",
      "Epoch 5/40\n",
      "19/19 [==============================] - 1s 62ms/step - loss: 1.3881 - accuracy: 0.6344 - val_loss: 1.1937 - val_accuracy: 0.6892\n",
      "Epoch 6/40\n",
      "19/19 [==============================] - 1s 63ms/step - loss: 1.3283 - accuracy: 0.6344 - val_loss: 1.1446 - val_accuracy: 0.6892\n",
      "Epoch 7/40\n",
      "19/19 [==============================] - 1s 63ms/step - loss: 1.2714 - accuracy: 0.6344 - val_loss: 1.1016 - val_accuracy: 0.6892\n",
      "Epoch 8/40\n",
      "19/19 [==============================] - 1s 68ms/step - loss: 1.1848 - accuracy: 0.6429 - val_loss: 1.0401 - val_accuracy: 0.7162\n",
      "Epoch 9/40\n",
      "19/19 [==============================] - 1s 64ms/step - loss: 1.0644 - accuracy: 0.6803 - val_loss: 0.9511 - val_accuracy: 0.7432\n",
      "Epoch 10/40\n",
      "19/19 [==============================] - 2s 96ms/step - loss: 0.9254 - accuracy: 0.7194 - val_loss: 0.8805 - val_accuracy: 0.7770\n",
      "Epoch 11/40\n",
      "19/19 [==============================] - 2s 88ms/step - loss: 0.8211 - accuracy: 0.7755 - val_loss: 0.8026 - val_accuracy: 0.7838\n",
      "Epoch 12/40\n",
      "19/19 [==============================] - 1s 63ms/step - loss: 0.7419 - accuracy: 0.7857 - val_loss: 0.9137 - val_accuracy: 0.7838\n",
      "Epoch 13/40\n",
      "19/19 [==============================] - 1s 65ms/step - loss: 0.7163 - accuracy: 0.7942 - val_loss: 0.6919 - val_accuracy: 0.7905\n",
      "Epoch 14/40\n",
      "19/19 [==============================] - 1s 63ms/step - loss: 0.7129 - accuracy: 0.8044 - val_loss: 0.6746 - val_accuracy: 0.7905\n",
      "Epoch 15/40\n",
      "19/19 [==============================] - 1s 64ms/step - loss: 0.6025 - accuracy: 0.8214 - val_loss: 0.6717 - val_accuracy: 0.8041\n",
      "Epoch 16/40\n",
      "19/19 [==============================] - 1s 64ms/step - loss: 0.5617 - accuracy: 0.8265 - val_loss: 0.6384 - val_accuracy: 0.8108\n",
      "Epoch 17/40\n",
      "19/19 [==============================] - 2s 98ms/step - loss: 0.5432 - accuracy: 0.8333 - val_loss: 0.6153 - val_accuracy: 0.8176\n",
      "Epoch 18/40\n",
      "19/19 [==============================] - 2s 96ms/step - loss: 0.5431 - accuracy: 0.8350 - val_loss: 0.6383 - val_accuracy: 0.8243\n",
      "Epoch 19/40\n",
      "19/19 [==============================] - 2s 109ms/step - loss: 0.5084 - accuracy: 0.8299 - val_loss: 0.5652 - val_accuracy: 0.8311\n",
      "Epoch 20/40\n",
      "19/19 [==============================] - 2s 81ms/step - loss: 0.4847 - accuracy: 0.8384 - val_loss: 0.6951 - val_accuracy: 0.8176\n",
      "Epoch 21/40\n",
      "19/19 [==============================] - 1s 63ms/step - loss: 0.4539 - accuracy: 0.8520 - val_loss: 0.5584 - val_accuracy: 0.8378\n",
      "Epoch 22/40\n",
      "19/19 [==============================] - 1s 63ms/step - loss: 0.4276 - accuracy: 0.8571 - val_loss: 0.5553 - val_accuracy: 0.8378\n",
      "Epoch 23/40\n",
      "19/19 [==============================] - 1s 64ms/step - loss: 0.4330 - accuracy: 0.8656 - val_loss: 0.5110 - val_accuracy: 0.8446\n",
      "Epoch 24/40\n",
      "19/19 [==============================] - 1s 63ms/step - loss: 0.4028 - accuracy: 0.8639 - val_loss: 0.5115 - val_accuracy: 0.8514\n",
      "Epoch 25/40\n",
      "19/19 [==============================] - 1s 63ms/step - loss: 0.3814 - accuracy: 0.8793 - val_loss: 0.5917 - val_accuracy: 0.8514\n",
      "Epoch 26/40\n",
      "19/19 [==============================] - 1s 63ms/step - loss: 0.3524 - accuracy: 0.8793 - val_loss: 0.5005 - val_accuracy: 0.8514\n",
      "Epoch 27/40\n",
      "19/19 [==============================] - 1s 63ms/step - loss: 0.3388 - accuracy: 0.8810 - val_loss: 0.6668 - val_accuracy: 0.8378\n",
      "Epoch 28/40\n",
      "19/19 [==============================] - 1s 68ms/step - loss: 0.3011 - accuracy: 0.8895 - val_loss: 0.5885 - val_accuracy: 0.8446\n",
      "Epoch 29/40\n",
      "19/19 [==============================] - 2s 97ms/step - loss: 0.2858 - accuracy: 0.9031 - val_loss: 0.6754 - val_accuracy: 0.8514\n",
      "Epoch 30/40\n",
      "19/19 [==============================] - 2s 81ms/step - loss: 0.2777 - accuracy: 0.9099 - val_loss: 0.6053 - val_accuracy: 0.8446\n",
      "Epoch 31/40\n",
      "19/19 [==============================] - 1s 63ms/step - loss: 0.2581 - accuracy: 0.9031 - val_loss: 0.6288 - val_accuracy: 0.8311\n"
     ]
    }
   ],
   "source": [
    "# Fit the model with early stopping for 40 epochs\n",
    "history6 = model6.fit(\n",
    "    X_train, y_train,\n",
    "    epochs=40,  # Increased to 40 epochs\n",
    "    validation_split=0.2,\n",
    "    callbacks=[early_stopping]\n",
    ")"
   ]
  },
  {
   "cell_type": "markdown",
   "metadata": {
    "id": "IWIJLAa72e4H"
   },
   "source": [
    "As we can see above, the model performed even better with a few more epochs. It also continued to perform well in terms of variance as it progressed through epochs, for the most part. With a training accuracy of about 0.90 and peak testing accuracy of about 0.85 in epoch 29, we have far exceeded our goal of creating a model that scores a 70% accuracy on both the training and testing set, while also maintaining an appropriate level of variance."
   ]
  }
 ],
 "metadata": {
  "colab": {
   "provenance": []
  },
  "kernelspec": {
   "display_name": "Python 3 (ipykernel)",
   "language": "python",
   "name": "python3"
  },
  "language_info": {
   "codemirror_mode": {
    "name": "ipython",
    "version": 3
   },
   "file_extension": ".py",
   "mimetype": "text/x-python",
   "name": "python",
   "nbconvert_exporter": "python",
   "pygments_lexer": "ipython3",
   "version": "3.10.9"
  }
 },
 "nbformat": 4,
 "nbformat_minor": 4
}
